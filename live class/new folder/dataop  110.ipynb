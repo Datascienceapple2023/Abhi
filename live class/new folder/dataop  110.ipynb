{
 "cells": [
  {
   "cell_type": "code",
   "execution_count": null,
   "id": "eea314b5",
   "metadata": {},
   "outputs": [],
   "source": [
    "print(\"Hello Data Scince\")"
   ]
  },
  {
   "cell_type": "code",
   "execution_count": null,
   "id": "ea9e6fc8",
   "metadata": {},
   "outputs": [],
   "source": [
    "print(\"sonu rai\")"
   ]
  },
  {
   "cell_type": "code",
   "execution_count": 1,
   "id": "631d6001",
   "metadata": {},
   "outputs": [
    {
     "name": "stdout",
     "output_type": "stream",
     "text": [
      "sonu rai\n"
     ]
    }
   ],
   "source": [
    "print(\"sonu rai\")"
   ]
  }
 ],
 "metadata": {
  "kernelspec": {
   "display_name": "Python 3 (ipykernel)",
   "language": "python",
   "name": "python3"
  },
  "language_info": {
   "codemirror_mode": {
    "name": "ipython",
    "version": 3
   },
   "file_extension": ".py",
   "mimetype": "text/x-python",
   "name": "python",
   "nbconvert_exporter": "python",
   "pygments_lexer": "ipython3",
   "version": "3.11.5"
  }
 },
 "nbformat": 4,
 "nbformat_minor": 5
}
