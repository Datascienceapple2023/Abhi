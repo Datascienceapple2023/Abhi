{
 "cells": [
  {
   "cell_type": "code",
   "execution_count": 1,
   "id": "a3dd2dcc",
   "metadata": {},
   "outputs": [
    {
     "name": "stdout",
     "output_type": "stream",
     "text": [
      "sonu rai\n"
     ]
    }
   ],
   "source": [
    "print(\"sonu rai\")"
   ]
  },
  {
   "cell_type": "code",
   "execution_count": 2,
   "id": "cfcfc4cc",
   "metadata": {},
   "outputs": [
    {
     "name": "stdout",
     "output_type": "stream",
     "text": [
      "Data Hello Science\n"
     ]
    }
   ],
   "source": [
    "print(\"Data Hello Science\")"
   ]
  },
  {
   "cell_type": "code",
   "execution_count": 3,
   "id": "6fda155c",
   "metadata": {},
   "outputs": [
    {
     "name": "stdout",
     "output_type": "stream",
     "text": [
      "Sonu Rai\n"
     ]
    }
   ],
   "source": [
    "print(\"Sonu Rai\")"
   ]
  },
  {
   "cell_type": "markdown",
   "id": "38809fcb",
   "metadata": {},
   "source": [
    "Hello Data Science"
   ]
  }
 ],
 "metadata": {
  "kernelspec": {
   "display_name": "Python 3 (ipykernel)",
   "language": "python",
   "name": "python3"
  },
  "language_info": {
   "codemirror_mode": {
    "name": "ipython",
    "version": 3
   },
   "file_extension": ".py",
   "mimetype": "text/x-python",
   "name": "python",
   "nbconvert_exporter": "python",
   "pygments_lexer": "ipython3",
   "version": "3.11.5"
  }
 },
 "nbformat": 4,
 "nbformat_minor": 5
}
